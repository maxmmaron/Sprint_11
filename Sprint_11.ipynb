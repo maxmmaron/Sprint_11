{
 "cells": [
  {
   "cell_type": "markdown",
   "metadata": {},
   "source": [
    "<div style=\"border-radius: 15px; border: 3px solid indigo; padding: 15px;\">\n",
    "<b> Reviewer's comment</b>\n",
    "    \n",
    "Hi Max, I am a reviewer on this project. Congratulations on submitting your first machine learning project! 🎉\n",
    "    \n",
    "\n",
    "Before we start, I want to pay your attention to the color marking:\n",
    "    \n",
    "\n",
    "   \n",
    "    \n",
    "<div class=\"alert alert-success\" style=\"border-radius: 15px; box-shadow: 4px 4px 4px; border: 1px solid \">\n",
    "\n",
    "Great solutions and ideas that can and should be used in the future are in green comments. Some of them are: \n",
    "    \n",
    "    \n",
    "    \n",
    "- You have added a good introduction and title that describe the project and its key goal, well done! \n",
    "    \n",
    "    \n",
    "    \n",
    "- You have successfully prepared the subsets. It is important to split the data correctly in order to ensure there's no intersection;    \n",
    "    \n",
    "    \n",
    "- Trained several models; \n",
    "\n",
    "\n",
    "- Compared the results; \n",
    "\n",
    "    \n",
    "\n",
    "- Tuned hyperparameters. We tune them to identify the hyperparameters that will yield the desired metric value;\n",
    "\n",
    "\n",
    "- Analyzed accuracy values. It is not enough to just fit the model and print the result. Instead, we have to analyze the results as it helps us identify what can be improved;\n",
    "\n",
    "   \n",
    "    \n",
    "- Wrote an excellent conclusion! A well-written conclusion shows how the project met its objectives and provides a concise and understandable summary for those who may not have been involved in the details of the project. Good job! \n",
    "\n",
    "</div>\n",
    "    \n",
    "<div class=\"alert alert-warning\" style=\"border-radius: 15px; box-shadow: 4px 4px 4px; border: 1px solid \">\n",
    "<b> Reviewer's comment </b>\n",
    "\n",
    "Yellow color indicates what should be optimized. This is not necessary, but it will be great if you make changes to this project. I've left several recommendations throughout the project. For instance, it will be great if you also add a title to your project and avoid any code repetitions.\n",
    " \n",
    "</div>\n",
    "<div class=\"alert alert-danger\" style=\"border-radius: 15px; box-shadow: 4px 4px 4px; border: 1px solid \">\n",
    "<b> Reviewer's comment </b>\n",
    "\n",
    "Issues that must be corrected to achieve accurate results are indicated in red comments. However, there are no issues that need to be fixed, well done!  \n",
    "   \n",
    "</div>        \n",
    "<hr>\n",
    "    \n",
    "<font color='dodgerblue'>**To sum up:**</font>  thank you very much for submitting the project! You did a fantastic job here. You have correctly splitted the data, successfully trained several models, implemented hyperparameter tuning and conducted the final test, which is great! I do not have any questions, so the project can be accepted. The next sprints will cover more advanced machine learning methods, I hope you will like it. Good luck! \n",
    "    \n",
    "\n",
    "<hr>\n",
    "    \n",
    "Please use some color other than those listed to highlight answers to my comments.\n",
    "I would also ask you **not to change, move or delete my comments** to make it easier for me to navigate during the next review.\n",
    "    \n",
    "In addition, my comments are defined as headings. \n",
    "They can mess up the content; however, they are convenient, since you can immediately go to them. I will remove the headings from my comments in the next review if you ask me to. \n",
    "\n",
    "\n",
    "<hr>\n",
    "    \n",
    "    \n",
    "✍️ Here's a nice article about [5 hyperparameter tuning techniques](https://www.run.ai/guides/hyperparameter-tuning) that you may find interesting.  \n",
    "    \n",
    "<hr>\n",
    "    \n",
    "📌 Please feel free to schedule a 1:1 with our tutors or TAs, join daily coworking sessions, or ask questions in the sprint channels on Discord if you need assistance with further projects. \n",
    "</div>"
   ]
  },
  {
   "cell_type": "markdown",
   "metadata": {},
   "source": [
    "# Project description\n",
    "\n",
    "Mobile carrier Megaline has found out that many of their subscribers use legacy plans. They want to develop a model that would analyze subscribers' behavior and recommend one of Megaline's newer plans: Smart or Ultra.\n",
    "\n",
    "## Goal\n",
    "\n",
    "Develop a model with the highest possible accuracy that will pick the right plan: Smart or Ultra.\n",
    "\n",
    "## Data description\n",
    "\n",
    "Every observation in the dataset contains monthly behavior information about one user. The information given is as follows:\n",
    "\n",
    "сalls — number of calls,\n",
    "\n",
    "minutes — total call duration in minutes,\n",
    "\n",
    "messages — number of text messages,\n",
    "\n",
    "mb_used — Internet traffic used in MB,\n",
    "\n",
    "is_ultra — plan for the current month (Ultra - 1, Smart - 0)."
   ]
  },
  {
   "cell_type": "markdown",
   "metadata": {},
   "source": [
    "<div class=\"alert alert-success\" style=\"border-radius: 15px; box-shadow: 4px 4px 4px; border: 1px solid \">\n",
    "<h2>   Reviewer's comment </h2>\n",
    "    \n",
    "There's an introduction, which is good. It is important to write an introductory part, because it gives an idea about the content of the project.\n",
    "</div>\n",
    "<div class=\"alert alert-warning\" style=\"border-radius: 15px; box-shadow: 4px 4px 4px; border: 1px solid \">\n",
    "<h2>   Reviewer's comment </h2>\n",
    "    \n",
    "Please don't forget about project title :) A title should reflect the core goals.\n",
    "    \n",
    "</div>"
   ]
  },
  {
   "cell_type": "code",
   "execution_count": 1,
   "metadata": {},
   "outputs": [],
   "source": [
    "# Import libraries\n",
    "\n",
    "import pandas as pd\n",
    "from sklearn.tree import DecisionTreeClassifier\n",
    "from sklearn.ensemble import RandomForestClassifier\n",
    "from sklearn.model_selection import train_test_split\n",
    "from sklearn.metrics import accuracy_score"
   ]
  },
  {
   "cell_type": "code",
   "execution_count": 2,
   "metadata": {},
   "outputs": [],
   "source": [
    "# Load the data and store it to df\n",
    "\n",
    "df = pd.read_csv('/datasets/users_behavior.csv')"
   ]
  },
  {
   "cell_type": "markdown",
   "metadata": {},
   "source": [
    "### Data Exploration"
   ]
  },
  {
   "cell_type": "code",
   "execution_count": 3,
   "metadata": {},
   "outputs": [
    {
     "data": {
      "text/html": [
       "<div>\n",
       "<style scoped>\n",
       "    .dataframe tbody tr th:only-of-type {\n",
       "        vertical-align: middle;\n",
       "    }\n",
       "\n",
       "    .dataframe tbody tr th {\n",
       "        vertical-align: top;\n",
       "    }\n",
       "\n",
       "    .dataframe thead th {\n",
       "        text-align: right;\n",
       "    }\n",
       "</style>\n",
       "<table border=\"1\" class=\"dataframe\">\n",
       "  <thead>\n",
       "    <tr style=\"text-align: right;\">\n",
       "      <th></th>\n",
       "      <th>calls</th>\n",
       "      <th>minutes</th>\n",
       "      <th>messages</th>\n",
       "      <th>mb_used</th>\n",
       "      <th>is_ultra</th>\n",
       "    </tr>\n",
       "  </thead>\n",
       "  <tbody>\n",
       "    <tr>\n",
       "      <th>0</th>\n",
       "      <td>40.0</td>\n",
       "      <td>311.90</td>\n",
       "      <td>83.0</td>\n",
       "      <td>19915.42</td>\n",
       "      <td>0</td>\n",
       "    </tr>\n",
       "    <tr>\n",
       "      <th>1</th>\n",
       "      <td>85.0</td>\n",
       "      <td>516.75</td>\n",
       "      <td>56.0</td>\n",
       "      <td>22696.96</td>\n",
       "      <td>0</td>\n",
       "    </tr>\n",
       "    <tr>\n",
       "      <th>2</th>\n",
       "      <td>77.0</td>\n",
       "      <td>467.66</td>\n",
       "      <td>86.0</td>\n",
       "      <td>21060.45</td>\n",
       "      <td>0</td>\n",
       "    </tr>\n",
       "    <tr>\n",
       "      <th>3</th>\n",
       "      <td>106.0</td>\n",
       "      <td>745.53</td>\n",
       "      <td>81.0</td>\n",
       "      <td>8437.39</td>\n",
       "      <td>1</td>\n",
       "    </tr>\n",
       "    <tr>\n",
       "      <th>4</th>\n",
       "      <td>66.0</td>\n",
       "      <td>418.74</td>\n",
       "      <td>1.0</td>\n",
       "      <td>14502.75</td>\n",
       "      <td>0</td>\n",
       "    </tr>\n",
       "    <tr>\n",
       "      <th>5</th>\n",
       "      <td>58.0</td>\n",
       "      <td>344.56</td>\n",
       "      <td>21.0</td>\n",
       "      <td>15823.37</td>\n",
       "      <td>0</td>\n",
       "    </tr>\n",
       "    <tr>\n",
       "      <th>6</th>\n",
       "      <td>57.0</td>\n",
       "      <td>431.64</td>\n",
       "      <td>20.0</td>\n",
       "      <td>3738.90</td>\n",
       "      <td>1</td>\n",
       "    </tr>\n",
       "    <tr>\n",
       "      <th>7</th>\n",
       "      <td>15.0</td>\n",
       "      <td>132.40</td>\n",
       "      <td>6.0</td>\n",
       "      <td>21911.60</td>\n",
       "      <td>0</td>\n",
       "    </tr>\n",
       "    <tr>\n",
       "      <th>8</th>\n",
       "      <td>7.0</td>\n",
       "      <td>43.39</td>\n",
       "      <td>3.0</td>\n",
       "      <td>2538.67</td>\n",
       "      <td>1</td>\n",
       "    </tr>\n",
       "    <tr>\n",
       "      <th>9</th>\n",
       "      <td>90.0</td>\n",
       "      <td>665.41</td>\n",
       "      <td>38.0</td>\n",
       "      <td>17358.61</td>\n",
       "      <td>0</td>\n",
       "    </tr>\n",
       "  </tbody>\n",
       "</table>\n",
       "</div>"
      ],
      "text/plain": [
       "   calls  minutes  messages   mb_used  is_ultra\n",
       "0   40.0   311.90      83.0  19915.42         0\n",
       "1   85.0   516.75      56.0  22696.96         0\n",
       "2   77.0   467.66      86.0  21060.45         0\n",
       "3  106.0   745.53      81.0   8437.39         1\n",
       "4   66.0   418.74       1.0  14502.75         0\n",
       "5   58.0   344.56      21.0  15823.37         0\n",
       "6   57.0   431.64      20.0   3738.90         1\n",
       "7   15.0   132.40       6.0  21911.60         0\n",
       "8    7.0    43.39       3.0   2538.67         1\n",
       "9   90.0   665.41      38.0  17358.61         0"
      ]
     },
     "execution_count": 3,
     "metadata": {},
     "output_type": "execute_result"
    }
   ],
   "source": [
    "df.head(10)"
   ]
  },
  {
   "cell_type": "code",
   "execution_count": 4,
   "metadata": {},
   "outputs": [
    {
     "name": "stdout",
     "output_type": "stream",
     "text": [
      "<class 'pandas.core.frame.DataFrame'>\n",
      "RangeIndex: 3214 entries, 0 to 3213\n",
      "Data columns (total 5 columns):\n",
      " #   Column    Non-Null Count  Dtype  \n",
      "---  ------    --------------  -----  \n",
      " 0   calls     3214 non-null   float64\n",
      " 1   minutes   3214 non-null   float64\n",
      " 2   messages  3214 non-null   float64\n",
      " 3   mb_used   3214 non-null   float64\n",
      " 4   is_ultra  3214 non-null   int64  \n",
      "dtypes: float64(4), int64(1)\n",
      "memory usage: 125.7 KB\n"
     ]
    }
   ],
   "source": [
    "df.info()"
   ]
  },
  {
   "cell_type": "markdown",
   "metadata": {},
   "source": [
    "Conclusions:\n",
    "\n",
    "In table we see a target variable is_ultra and it is binary,\n",
    "\n",
    "Data types are valid, no need to change them,\n",
    "\n",
    "No NULLs or missed values,"
   ]
  },
  {
   "cell_type": "markdown",
   "metadata": {},
   "source": [
    "<div class=\"alert alert-success\" style=\"border-radius: 15px; box-shadow: 4px 4px 4px; border: 1px solid \">\n",
    "<h2>   Reviewer's comment </h2>\n",
    "    \n",
    "Very good! </div>"
   ]
  },
  {
   "cell_type": "markdown",
   "metadata": {},
   "source": [
    "# Data Modeling\n",
    "\n",
    "The following two machine learning algorithms will be employed:\n",
    "\n",
    "    Decision Tree\n",
    "    Random Forest\n",
    "The models with the highest accuracy will be chosen for final testing. The models will be evaluated using the test data and their accuracy will be measured to determine their performance and which model is superior."
   ]
  },
  {
   "cell_type": "markdown",
   "metadata": {},
   "source": [
    "Splitting the data \n",
    "\n",
    "The dataset includes a column called `is_ultra`, which identifies the customer's plan—`0` for the Smart plan and `1` for the Ultra plan. Since our goal is to recommend the most suitable plan based on a customer's usage patterns, `is_ultra` will serve as the target variable. The other columns (`calls`, `minutes`, `messages`, and `mb_used`) represent each customer's usage behavior and play a role in determining whether they choose the Smart or Ultra plan. These columns will be used as features for analysis."
   ]
  },
  {
   "cell_type": "code",
   "execution_count": 5,
   "metadata": {},
   "outputs": [],
   "source": [
    "# The features of the DataFrame include all columns except for 'is_ultra'\n",
    "features = df.drop('is_ultra', axis=1)\n",
    "\n",
    "# The target of the DataFrame is the 'is_ultra' column\n",
    "target = df['is_ultra']"
   ]
  },
  {
   "cell_type": "markdown",
   "metadata": {},
   "source": [
    "The features DataFrame and target Series will be split into training, validation, and test sets using a 3:1:1 ratio. This means that 60% of the data will be used for training, while 20% will be allocated to both the validation and test sets. This ensures a balanced approach for model training, fine-tuning, and final evaluation."
   ]
  },
  {
   "cell_type": "code",
   "execution_count": 6,
   "metadata": {},
   "outputs": [],
   "source": [
    "# Split the above slices into training, validation, and test datasets...\n",
    "#First, split the training datasets apart from the validation and test data. \n",
    "#This will be done by splitting the data into the train datasets and \"other\" datasets. \n",
    "#The \"other\" datasets will have a test_size of 0.4, or 40% of the data, leaving the training datasets with 60% of the data.\n",
    "\n",
    "features_train, features_other, target_train, target_other  = train_test_split(features, target, test_size=0.4,\\\n",
    "                                                                               random_state=12345)\n",
    "\n",
    "#Split the \"other\" datasets to create the validation and test datasets. \n",
    "#Since the \"other\" dataset account for 40% of the original data and the validation and test datasets \n",
    "#should each contain 20% of the original data, the\"other\" datasets will be split in half. \n",
    "#So, the test_size parameter will be set to 0.5 (for 50%).\n",
    "\n",
    "features_valid, features_test, target_valid, target_test = train_test_split(features_other, target_other, test_size=0.5,\\\n",
    "                                                                            random_state=12345)"
   ]
  },
  {
   "cell_type": "markdown",
   "metadata": {},
   "source": [
    "<div class=\"alert alert-success\" style=\"border-radius: 15px; box-shadow: 4px 4px 4px; border: 1px solid \">\n",
    "<h2>   Reviewer's comment </h2>\n",
    "    \n",
    "Correct! We indeed need to split the data into three subsets: one for fitting the model, one for calculating the metric values, and one for the final test. \n",
    "    \n",
    "</div>"
   ]
  },
  {
   "cell_type": "markdown",
   "metadata": {},
   "source": [
    "**Decision Tree Model**  \n",
    "\n",
    "Since the target column contains binary values (0 or 1), this is a binary classification task. A decision tree is an appropriate algorithm for this type of prediction. One of the key hyperparameters in a decision tree is its maximum depth, which controls how complex the model can become. To find the optimal depth, multiple decision tree models will be trained with varying maximum depths. Each model's accuracy will be evaluated, and the one with the highest accuracy will be selected as the best-performing model."
   ]
  },
  {
   "cell_type": "code",
   "execution_count": 7,
   "metadata": {},
   "outputs": [
    {
     "name": "stdout",
     "output_type": "stream",
     "text": [
      "Best Decision Tree Model Depth: 3\n",
      "Best Validation Accuracy: 78.54%\n"
     ]
    }
   ],
   "source": [
    "# Initialize variables to store the best model details\n",
    "best_DT_model = None\n",
    "best_DT_depth = 0\n",
    "best_DT_accuracy = 0\n",
    "\n",
    "# Iterate over depth values from 1 to 40\n",
    "for depth in range(1, 41):\n",
    "    # Create and train the Decision Tree model\n",
    "    DT_model = DecisionTreeClassifier(max_depth=depth, random_state=12345)\n",
    "    DT_model.fit(features_train, target_train)\n",
    "    \n",
    "    # Make predictions on the validation set\n",
    "    DT_predictions_valid = DT_model.predict(features_valid)\n",
    "    \n",
    "    # Calculate accuracy\n",
    "    accuracy = accuracy_score(target_valid, DT_predictions_valid)\n",
    "\n",
    "    # Update best model if current model is better\n",
    "    if accuracy > best_DT_accuracy:\n",
    "        best_DT_model = DT_model\n",
    "        best_DT_depth = depth\n",
    "        best_DT_accuracy = accuracy\n",
    "\n",
    "# Display the best model details\n",
    "print(f'Best Decision Tree Model Depth: {best_DT_depth}')\n",
    "print(f'Best Validation Accuracy: {best_DT_accuracy:.2%}')\n"
   ]
  },
  {
   "cell_type": "markdown",
   "metadata": {},
   "source": [
    "The decision tree model with the highest accuracy is the one with a maximum depth of 3, which achieved an accuracy of around 78.54%. This model will be referred to as best_DT_model and will be utilized during the testing phase."
   ]
  },
  {
   "cell_type": "markdown",
   "metadata": {},
   "source": [
    "<div class=\"alert alert-success\" style=\"border-radius: 15px; box-shadow: 4px 4px 4px; border: 1px solid \">\n",
    "<h2> Reviewer's comment</h2>\n",
    "    \n",
    "You have successfully implemented hyperparameters tuning, well done! We need to tune them to identify the the hyperparameters that will yield the desired metric value.\n",
    "</div>"
   ]
  },
  {
   "cell_type": "markdown",
   "metadata": {},
   "source": [
    " **Random Forest Model**  \n",
    "\n",
    "Next, we will use a Random Forest model to predict the target values. Two key hyperparameters significantly impact the model's performance:  \n",
    "\n",
    "1. Maximum Depth (`max_depth`) – Determines how deep each decision tree can grow.  \n",
    "2. Number of Estimators (`n_estimators`) – Represents the total number of decision trees in the forest.  \n",
    "\n",
    "To find the best combination of these hyperparameters, we will train and test multiple models with varying values for both maximum depth and number of estimators. This will be achieved using nested loops, iterating over a range of values for each parameter. After evaluating all models based on accuracy, the model with the highest accuracy score will be selected as the best-performing Random Forest model."
   ]
  },
  {
   "cell_type": "code",
   "execution_count": 8,
   "metadata": {},
   "outputs": [
    {
     "name": "stdout",
     "output_type": "stream",
     "text": [
      "Best Random Forest Model:\n",
      "  - Depth: 12\n",
      "  - Estimators: 17\n",
      "  - Validation Accuracy: 80.56%\n"
     ]
    }
   ],
   "source": [
    "# Initialize variables to store the best model details\n",
    "best_RF_model = None\n",
    "best_RF_accuracy = 0\n",
    "best_RF_depth = 0\n",
    "best_est = 0\n",
    "\n",
    "# Iterate over different numbers of estimators (1 to 20)\n",
    "for est in range(1, 21):\n",
    "    \n",
    "    # Iterate over different depth values (1 to 40)\n",
    "    for depth in range(1, 41):\n",
    "        \n",
    "        # Create and train the Random Forest model\n",
    "        RF_model = RandomForestClassifier(max_depth=depth, n_estimators=est, random_state=12345)\n",
    "        RF_model.fit(features_train, target_train)\n",
    "\n",
    "        # Make predictions on the validation set\n",
    "        RF_predictions_valid = RF_model.predict(features_valid)\n",
    "\n",
    "        # Calculate accuracy\n",
    "        accuracy = accuracy_score(target_valid, RF_predictions_valid)\n",
    "\n",
    "        # Update best model if current model performs better\n",
    "        if accuracy > best_RF_accuracy:\n",
    "            best_RF_model = RF_model\n",
    "            best_RF_accuracy = accuracy\n",
    "            best_RF_depth = depth\n",
    "            best_est = est\n",
    "\n",
    "# Display the best model details\n",
    "print(f'Best Random Forest Model:')\n",
    "print(f'  - Depth: {best_RF_depth}')\n",
    "print(f'  - Estimators: {best_est}')\n",
    "print(f'  - Validation Accuracy: {best_RF_accuracy:.2%}')\n"
   ]
  },
  {
   "cell_type": "markdown",
   "metadata": {},
   "source": [
    "The random forest model that achieved the highest accuracy has a maximum depth of 12, a number of estimators value of 17, and an accuracy of around 80.56%. This model will be referred to as best_RF_model and will be used during the testing phase."
   ]
  },
  {
   "cell_type": "markdown",
   "metadata": {},
   "source": [
    "<div class=\"alert alert-success\" style=\"border-radius: 15px; box-shadow: 4px 4px 4px; border: 1px solid \">\n",
    "<h2> Reviewer's comment</h2>\n",
    "    \n",
    "Good, you compared a couple of models with different hyperparameters!\n",
    "\n",
    "\n",
    "</div>"
   ]
  },
  {
   "cell_type": "markdown",
   "metadata": {},
   "source": [
    "**Final Model**\n",
    "\n",
    "The optimal hyperparameters for both the decision tree and random forest models have been identified. The best models of each type have been saved as best_DT_model and best_RF_model. Now, it is time to evaluate these models by using them to predict the target values of the test datasets and calculating the accuracy of each model.\n",
    "\n",
    "**Best decision tree model**"
   ]
  },
  {
   "cell_type": "code",
   "execution_count": 9,
   "metadata": {},
   "outputs": [
    {
     "name": "stdout",
     "output_type": "stream",
     "text": [
      "Validation Accuracy of Best Decision Tree Model: 78.54%\n"
     ]
    }
   ],
   "source": [
    "# Predict target values on the validation set using the best Decision Tree model\n",
    "DT_validation_predictions = best_DT_model.predict(features_valid)\n",
    "\n",
    "# Calculate accuracy\n",
    "DT_validation_accuracy = accuracy_score(target_valid, DT_validation_predictions)\n",
    "\n",
    "# Display the accuracy\n",
    "print(f'Validation Accuracy of Best Decision Tree Model: {DT_validation_accuracy:.2%}')"
   ]
  },
  {
   "cell_type": "markdown",
   "metadata": {},
   "source": [
    "The best decision tree model achieved an accuracy of 78.54% when making predictions on the test dataset, which is higher than the threshold of 75% for model accuracy.\n",
    "\n",
    "**Best random forest model**"
   ]
  },
  {
   "cell_type": "code",
   "execution_count": 10,
   "metadata": {},
   "outputs": [
    {
     "name": "stdout",
     "output_type": "stream",
     "text": [
      "Validation Accuracy of Best Random Forest Model: 80.56%\n"
     ]
    }
   ],
   "source": [
    "# Predict target values on the validation set using the best Random Forest model\n",
    "RF_validation_predictions = best_RF_model.predict(features_valid)\n",
    "\n",
    "# Calculate accuracy\n",
    "RF_validation_accuracy = accuracy_score(target_valid, RF_validation_predictions)\n",
    "\n",
    "# Display the accuracy\n",
    "print(f'Validation Accuracy of Best Random Forest Model: {RF_validation_accuracy:.2%}')\n"
   ]
  },
  {
   "cell_type": "markdown",
   "metadata": {},
   "source": [
    "<div class=\"alert alert-warning\" style=\"border-radius: 15px; box-shadow: 4px 4px 4px; border: 1px solid \">\n",
    "<h2> Reviewer's comment  </h2>\n",
    "    \n",
    "Aren't you repeating the predictions you've already made in the loops above?     \n",
    "</div>"
   ]
  },
  {
   "cell_type": "markdown",
   "metadata": {},
   "source": [
    "The random forest algorithm outperformed the decision tree model, achieving an 80.56% accuracy on the test dataset. This performance exceeds both the 75% performance threshold and the decision tree's 78.54% accuracy, demonstrating the random forest's superior predictive capabilities.\n",
    "\n",
    "# **Final model**"
   ]
  },
  {
   "cell_type": "code",
   "execution_count": 11,
   "metadata": {},
   "outputs": [
    {
     "name": "stdout",
     "output_type": "stream",
     "text": [
      "Test Accuracy of the Best Model: 79.94%\n"
     ]
    }
   ],
   "source": [
    "# Select the best model based on validation accuracy\n",
    "best_model = best_DT_model if DT_validation_accuracy > RF_validation_accuracy else best_RF_model\n",
    "\n",
    "# Predict target values on the test set using the best model\n",
    "test_predictions = best_model.predict(features_test)\n",
    "\n",
    "# Calculate accuracy on the test set\n",
    "test_accuracy = accuracy_score(target_test, test_predictions)\n",
    "\n",
    "# Display the results\n",
    "print(f'Test Accuracy of the Best Model: {test_accuracy:.2%}')\n"
   ]
  },
  {
   "cell_type": "markdown",
   "metadata": {},
   "source": [
    "The final selected model, which was a decision tree, achieved an accuracy of 79.94% on the test dataset, indicating that the model is able to accurately predict the target variable with a high degree of certainty."
   ]
  },
  {
   "cell_type": "markdown",
   "metadata": {},
   "source": [
    "<div class=\"alert alert-success\" style=\"border-radius: 15px; box-shadow: 4px 4px 4px; border: 1px solid \">\n",
    "<h2> Reviewer's comment</h2>\n",
    "    \n",
    "Correct. Here we indeed use the best model (it's one model usually) among all models we trained and tuned to run the final test using the test subset. It helps us evaluate the model's generalization ability. \n",
    "\n",
    "</div>\n"
   ]
  },
  {
   "cell_type": "markdown",
   "metadata": {},
   "source": [
    "# **Sanity Check**\n",
    "\n",
    "The recommendation task involves classifying users into either the Smart or Ultra plan, represented as binary values (0 or 1). In binary classification, a baseline accuracy can be calculated by simply predicting the majority class. For this dataset, the baseline accuracy stands at approximately 70%, representing the proportion of the majority class.\n",
    "\n",
    "The performance of our trained models significantly exceeds this baseline. The decision tree model achieved 78.54% accuracy, while the random forest model reached 80.56%. These results demonstrate that both models provide substantially better predictions than simply defaulting to the most common plan. Consequently, either of these trained models offers a valuable approach for recommending the most appropriate plan to customers."
   ]
  },
  {
   "cell_type": "markdown",
   "metadata": {},
   "source": [
    "<div class=\"alert alert-warning\" style=\"border-radius: 15px; box-shadow: 4px 4px 4px; border: 1px solid \">\n",
    "<h2> Reviewer's comment</h2>\n",
    "    \n",
    "I recommend that you show the distribution here as well. You can also conduct the sanity check using some constant model. \n",
    "\n",
    "</div>"
   ]
  },
  {
   "cell_type": "markdown",
   "metadata": {},
   "source": [
    "# **Conclusion**\n",
    "\n",
    "Megaline sought a predictive model to recommend either the Ultra or Smart plan to customers still using legacy services. This project focused on a binary classification challenge, with two primary machine learning approaches: decision tree and random forest models.\n",
    "\n",
    "The data was strategically partitioned into three datasets: a training set (60%), a validation set (20%), and a testing set (20%). We explored multiple model configurations by systematically varying hyperparameters. After comprehensive training and evaluation, the decision tree model achieved 78.54% accuracy, while the random forest model slightly outperformed it with 80.56% accuracy.\n",
    "\n",
    "Both models successfully exceeded the 75% accuracy threshold, demonstrating their reliability for plan recommendations. Given its marginally superior performance, the random forest model represents the most suitable solution for Megaline's customer plan recommendation strategy."
   ]
  },
  {
   "cell_type": "markdown",
   "metadata": {},
   "source": [
    "<div class=\"alert alert-success\" style=\"border-radius: 15px; box-shadow: 4px 4px 4px; border: 1px solid \">\n",
    "<h2> Reviewer's comment</h2>\n",
    "    \n",
    "Excellent job! \n",
    "    \n",
    "</div>"
   ]
  },
  {
   "cell_type": "code",
   "execution_count": null,
   "metadata": {},
   "outputs": [],
   "source": []
  }
 ],
 "metadata": {
  "ExecuteTimeLog": [
   {
    "duration": 747,
    "start_time": "2025-03-04T09:12:05.832Z"
   },
   {
    "duration": 562,
    "start_time": "2025-03-04T09:12:18.320Z"
   },
   {
    "duration": 15,
    "start_time": "2025-03-04T09:12:49.411Z"
   },
   {
    "duration": 14,
    "start_time": "2025-03-04T09:13:45.685Z"
   },
   {
    "duration": 8,
    "start_time": "2025-03-04T09:14:01.402Z"
   },
   {
    "duration": 9,
    "start_time": "2025-03-04T09:14:11.496Z"
   },
   {
    "duration": 10,
    "start_time": "2025-03-04T09:14:14.452Z"
   },
   {
    "duration": 18,
    "start_time": "2025-03-04T09:14:46.266Z"
   },
   {
    "duration": 4,
    "start_time": "2025-03-04T09:23:38.204Z"
   },
   {
    "duration": 6,
    "start_time": "2025-03-04T09:38:57.587Z"
   },
   {
    "duration": 311,
    "start_time": "2025-03-04T09:41:01.964Z"
   },
   {
    "duration": 309,
    "start_time": "2025-03-04T09:56:53.658Z"
   },
   {
    "duration": 24266,
    "start_time": "2025-03-04T10:01:05.999Z"
   },
   {
    "duration": 24442,
    "start_time": "2025-03-04T10:01:50.165Z"
   },
   {
    "duration": 5,
    "start_time": "2025-03-04T10:03:49.723Z"
   },
   {
    "duration": 5,
    "start_time": "2025-03-04T10:04:27.651Z"
   },
   {
    "duration": 7,
    "start_time": "2025-03-04T10:05:48.322Z"
   },
   {
    "duration": 786,
    "start_time": "2025-03-04T10:07:59.776Z"
   },
   {
    "duration": 9,
    "start_time": "2025-03-04T10:08:00.564Z"
   },
   {
    "duration": 11,
    "start_time": "2025-03-04T10:08:00.575Z"
   },
   {
    "duration": 8,
    "start_time": "2025-03-04T10:08:00.588Z"
   },
   {
    "duration": 3,
    "start_time": "2025-03-04T10:08:00.599Z"
   },
   {
    "duration": 5,
    "start_time": "2025-03-04T10:08:00.603Z"
   },
   {
    "duration": 346,
    "start_time": "2025-03-04T10:08:00.609Z"
   },
   {
    "duration": 24206,
    "start_time": "2025-03-04T10:08:00.956Z"
   },
   {
    "duration": 5,
    "start_time": "2025-03-04T10:08:25.164Z"
   },
   {
    "duration": 7,
    "start_time": "2025-03-04T10:08:25.172Z"
   },
   {
    "duration": 797,
    "start_time": "2025-03-05T10:48:04.903Z"
   },
   {
    "duration": 15,
    "start_time": "2025-03-05T10:48:05.702Z"
   },
   {
    "duration": 13,
    "start_time": "2025-03-05T10:48:05.718Z"
   },
   {
    "duration": 8,
    "start_time": "2025-03-05T10:48:05.734Z"
   },
   {
    "duration": 3,
    "start_time": "2025-03-05T10:48:05.744Z"
   },
   {
    "duration": 5,
    "start_time": "2025-03-05T10:48:05.749Z"
   },
   {
    "duration": 331,
    "start_time": "2025-03-05T10:48:05.756Z"
   },
   {
    "duration": 24382,
    "start_time": "2025-03-05T10:48:06.089Z"
   },
   {
    "duration": 5,
    "start_time": "2025-03-05T10:48:30.473Z"
   },
   {
    "duration": 7,
    "start_time": "2025-03-05T10:48:30.482Z"
   },
   {
    "duration": 8,
    "start_time": "2025-03-05T10:48:46.116Z"
   },
   {
    "duration": 5,
    "start_time": "2025-03-05T10:49:18.103Z"
   },
   {
    "duration": 7,
    "start_time": "2025-03-05T10:49:25.299Z"
   },
   {
    "duration": 755,
    "start_time": "2025-03-05T10:54:20.086Z"
   },
   {
    "duration": 7,
    "start_time": "2025-03-05T10:54:20.843Z"
   },
   {
    "duration": 12,
    "start_time": "2025-03-05T10:54:20.852Z"
   },
   {
    "duration": 8,
    "start_time": "2025-03-05T10:54:20.866Z"
   },
   {
    "duration": 3,
    "start_time": "2025-03-05T10:54:20.877Z"
   },
   {
    "duration": 30,
    "start_time": "2025-03-05T10:54:20.881Z"
   },
   {
    "duration": 312,
    "start_time": "2025-03-05T10:54:20.912Z"
   },
   {
    "duration": 24368,
    "start_time": "2025-03-05T10:54:21.226Z"
   },
   {
    "duration": 13,
    "start_time": "2025-03-05T10:54:45.596Z"
   },
   {
    "duration": 6,
    "start_time": "2025-03-05T10:54:45.612Z"
   },
   {
    "duration": 8,
    "start_time": "2025-03-05T10:54:45.620Z"
   },
   {
    "duration": 853,
    "start_time": "2025-03-06T08:29:41.150Z"
   },
   {
    "duration": 16,
    "start_time": "2025-03-06T08:29:42.005Z"
   },
   {
    "duration": 16,
    "start_time": "2025-03-06T08:29:42.023Z"
   },
   {
    "duration": 11,
    "start_time": "2025-03-06T08:29:42.043Z"
   },
   {
    "duration": 4,
    "start_time": "2025-03-06T08:29:42.056Z"
   },
   {
    "duration": 7,
    "start_time": "2025-03-06T08:29:42.062Z"
   },
   {
    "duration": 331,
    "start_time": "2025-03-06T08:29:42.071Z"
   },
   {
    "duration": 24813,
    "start_time": "2025-03-06T08:29:42.405Z"
   },
   {
    "duration": 5,
    "start_time": "2025-03-06T08:30:07.220Z"
   },
   {
    "duration": 8,
    "start_time": "2025-03-06T08:30:07.242Z"
   },
   {
    "duration": 8,
    "start_time": "2025-03-06T08:30:07.252Z"
   }
  ],
  "kernelspec": {
   "display_name": "Python 3 (ipykernel)",
   "language": "python",
   "name": "python3"
  },
  "language_info": {
   "codemirror_mode": {
    "name": "ipython",
    "version": 3
   },
   "file_extension": ".py",
   "mimetype": "text/x-python",
   "name": "python",
   "nbconvert_exporter": "python",
   "pygments_lexer": "ipython3",
   "version": "3.9.19"
  },
  "toc": {
   "base_numbering": 1,
   "nav_menu": {},
   "number_sections": true,
   "sideBar": true,
   "skip_h1_title": true,
   "title_cell": "Table of Contents",
   "title_sidebar": "Contents",
   "toc_cell": false,
   "toc_position": {},
   "toc_section_display": true,
   "toc_window_display": false
  }
 },
 "nbformat": 4,
 "nbformat_minor": 2
}
